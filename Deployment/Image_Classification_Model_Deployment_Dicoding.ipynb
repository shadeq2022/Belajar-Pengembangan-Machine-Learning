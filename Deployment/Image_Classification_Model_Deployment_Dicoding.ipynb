{
  "nbformat": 4,
  "nbformat_minor": 0,
  "metadata": {
    "colab": {
      "provenance": [],
      "gpuType": "T4",
      "authorship_tag": "ABX9TyOqxDp66gpOI02gLRL/8OpO",
      "include_colab_link": true
    },
    "kernelspec": {
      "name": "python3",
      "display_name": "Python 3"
    },
    "language_info": {
      "name": "python"
    },
    "accelerator": "GPU"
  },
  "cells": [
    {
      "cell_type": "markdown",
      "metadata": {
        "id": "view-in-github",
        "colab_type": "text"
      },
      "source": [
        "<a href=\"https://colab.research.google.com/github/shadeq2022/Belajar-Pengembangan-Machine-Learning/blob/main/Deployment/Image_Classification_Model_Deployment_Dicoding.ipynb\" target=\"_parent\"><img src=\"https://colab.research.google.com/assets/colab-badge.svg\" alt=\"Open In Colab\"/></a>"
      ]
    },
    {
      "cell_type": "markdown",
      "source": [
        "# **Mammals Image Classification**\n",
        "Nama    : Muhammad Shadeq <br>\n",
        "Email   : muhammadshadeq25@gmail.com <br>\n",
        "Dataset : https://www.kaggle.com/datasets/asaniczka/mammals-image-classification-dataset-45-animals"
      ],
      "metadata": {
        "id": "gkcK5eA0nNOX"
      }
    },
    {
      "cell_type": "markdown",
      "source": [
        "**Import library**"
      ],
      "metadata": {
        "id": "NhW7fSYwnRcf"
      }
    },
    {
      "cell_type": "code",
      "execution_count": 1,
      "metadata": {
        "id": "HT-uqDQ8lvUM"
      },
      "outputs": [],
      "source": [
        "import pandas as pd\n",
        "import numpy as np\n",
        "import zipfile\n",
        "import os\n",
        "import matplotlib.pyplot as plt\n",
        "import tensorflow as tf\n",
        "from tensorflow import keras\n",
        "from tensorflow.keras import layers\n",
        "from tensorflow.keras.applications.densenet import DenseNet201,preprocess_input\n",
        "from tensorflow.keras.models import Sequential\n",
        "from tensorflow.keras.layers import Flatten,Conv2D,MaxPooling2D,Dense,Lambda\n",
        "from tensorflow.keras.preprocessing.image import load_img,img_to_array\n",
        "from tensorflow.keras.utils import get_file\n",
        "\n",
        "from google.colab import drive\n",
        "from google.colab import files\n",
        "import pathlib"
      ]
    },
    {
      "cell_type": "code",
      "source": [
        "! pip install -q tf-nightly"
      ],
      "metadata": {
        "colab": {
          "base_uri": "https://localhost:8080/"
        },
        "id": "NPahT72bnVi_",
        "outputId": "ffd76161-80a0-4c6e-d3e5-8ce4e476f005"
      },
      "execution_count": 2,
      "outputs": [
        {
          "output_type": "stream",
          "name": "stdout",
          "text": [
            "\u001b[2K     \u001b[90m━━━━━━━━━━━━━━━━━━━━━━━━━━━━━━━━━━━━━━━━\u001b[0m \u001b[32m590.8/590.8 MB\u001b[0m \u001b[31m2.7 MB/s\u001b[0m eta \u001b[36m0:00:00\u001b[0m\n",
            "\u001b[2K     \u001b[90m━━━━━━━━━━━━━━━━━━━━━━━━━━━━━━━━━━━━━━━━\u001b[0m \u001b[32m4.8/4.8 MB\u001b[0m \u001b[31m89.9 MB/s\u001b[0m eta \u001b[36m0:00:00\u001b[0m\n",
            "\u001b[2K     \u001b[90m━━━━━━━━━━━━━━━━━━━━━━━━━━━━━━━━━━━━━━━━\u001b[0m \u001b[32m2.2/2.2 MB\u001b[0m \u001b[31m94.9 MB/s\u001b[0m eta \u001b[36m0:00:00\u001b[0m\n",
            "\u001b[2K     \u001b[90m━━━━━━━━━━━━━━━━━━━━━━━━━━━━━━━━━━━━━━━━\u001b[0m \u001b[32m5.5/5.5 MB\u001b[0m \u001b[31m99.0 MB/s\u001b[0m eta \u001b[36m0:00:00\u001b[0m\n",
            "\u001b[2K     \u001b[90m━━━━━━━━━━━━━━━━━━━━━━━━━━━━━━━━━━━━━━━━\u001b[0m \u001b[32m1.0/1.0 MB\u001b[0m \u001b[31m61.3 MB/s\u001b[0m eta \u001b[36m0:00:00\u001b[0m\n",
            "\u001b[2K     \u001b[90m━━━━━━━━━━━━━━━━━━━━━━━━━━━━━━━━━━━━━━━━\u001b[0m \u001b[32m1.7/1.7 MB\u001b[0m \u001b[31m86.1 MB/s\u001b[0m eta \u001b[36m0:00:00\u001b[0m\n",
            "\u001b[?25h\u001b[31mERROR: pip's dependency resolver does not currently take into account all the packages that are installed. This behaviour is the source of the following dependency conflicts.\n",
            "tensorflow 2.15.0 requires ml-dtypes~=0.2.0, but you have ml-dtypes 0.3.2 which is incompatible.\u001b[0m\u001b[31m\n",
            "\u001b[0m"
          ]
        }
      ]
    },
    {
      "cell_type": "markdown",
      "source": [
        "**API Kaggle dan Download Dataset**"
      ],
      "metadata": {
        "id": "F7KTNsjrnXyR"
      }
    },
    {
      "cell_type": "code",
      "source": [
        "! pip install kaggle"
      ],
      "metadata": {
        "colab": {
          "base_uri": "https://localhost:8080/"
        },
        "id": "MvuQpsxknYWO",
        "outputId": "f4a1aaf7-45f4-4cc9-85db-7010ba07d83b"
      },
      "execution_count": 3,
      "outputs": [
        {
          "output_type": "stream",
          "name": "stdout",
          "text": [
            "Requirement already satisfied: kaggle in /usr/local/lib/python3.10/dist-packages (1.5.16)\n",
            "Requirement already satisfied: six>=1.10 in /usr/local/lib/python3.10/dist-packages (from kaggle) (1.16.0)\n",
            "Requirement already satisfied: certifi in /usr/local/lib/python3.10/dist-packages (from kaggle) (2023.11.17)\n",
            "Requirement already satisfied: python-dateutil in /usr/local/lib/python3.10/dist-packages (from kaggle) (2.8.2)\n",
            "Requirement already satisfied: requests in /usr/local/lib/python3.10/dist-packages (from kaggle) (2.31.0)\n",
            "Requirement already satisfied: tqdm in /usr/local/lib/python3.10/dist-packages (from kaggle) (4.66.1)\n",
            "Requirement already satisfied: python-slugify in /usr/local/lib/python3.10/dist-packages (from kaggle) (8.0.3)\n",
            "Requirement already satisfied: urllib3 in /usr/local/lib/python3.10/dist-packages (from kaggle) (2.0.7)\n",
            "Requirement already satisfied: bleach in /usr/local/lib/python3.10/dist-packages (from kaggle) (6.1.0)\n",
            "Requirement already satisfied: webencodings in /usr/local/lib/python3.10/dist-packages (from bleach->kaggle) (0.5.1)\n",
            "Requirement already satisfied: text-unidecode>=1.3 in /usr/local/lib/python3.10/dist-packages (from python-slugify->kaggle) (1.3)\n",
            "Requirement already satisfied: charset-normalizer<4,>=2 in /usr/local/lib/python3.10/dist-packages (from requests->kaggle) (3.3.2)\n",
            "Requirement already satisfied: idna<4,>=2.5 in /usr/local/lib/python3.10/dist-packages (from requests->kaggle) (3.6)\n"
          ]
        }
      ]
    },
    {
      "cell_type": "code",
      "source": [
        "drive.mount('/content/gdrive')"
      ],
      "metadata": {
        "colab": {
          "base_uri": "https://localhost:8080/"
        },
        "id": "pADfIhKVncCL",
        "outputId": "84eca76b-7be2-477a-e79f-961c8ea9da52"
      },
      "execution_count": 4,
      "outputs": [
        {
          "output_type": "stream",
          "name": "stdout",
          "text": [
            "Mounted at /content/gdrive\n"
          ]
        }
      ]
    },
    {
      "cell_type": "code",
      "source": [
        "os.environ['KAGGLE_CONFIG_DIR'] = \"/content/gdrive/My Drive/KaggleNew\""
      ],
      "metadata": {
        "id": "ue_FS318ndij"
      },
      "execution_count": 5,
      "outputs": []
    },
    {
      "cell_type": "code",
      "source": [
        "%cd /content/"
      ],
      "metadata": {
        "colab": {
          "base_uri": "https://localhost:8080/"
        },
        "id": "Wu5zMlZune0X",
        "outputId": "a9487526-609f-45d3-9135-301d25a93cc1"
      },
      "execution_count": 6,
      "outputs": [
        {
          "output_type": "stream",
          "name": "stdout",
          "text": [
            "/content\n"
          ]
        }
      ]
    },
    {
      "cell_type": "code",
      "source": [
        "!kaggle datasets download -d asaniczka/mammals-image-classification-dataset-45-animals"
      ],
      "metadata": {
        "colab": {
          "base_uri": "https://localhost:8080/"
        },
        "id": "vL7LzjFpngWr",
        "outputId": "f2bda917-83ee-4a62-c3d3-9852223743cb"
      },
      "execution_count": 7,
      "outputs": [
        {
          "output_type": "stream",
          "name": "stdout",
          "text": [
            "Downloading mammals-image-classification-dataset-45-animals.zip to /content\n",
            " 98% 181M/185M [00:02<00:00, 80.4MB/s]\n",
            "100% 185M/185M [00:02<00:00, 84.8MB/s]\n"
          ]
        }
      ]
    },
    {
      "cell_type": "markdown",
      "source": [
        "**Lakukan Ekstrak File zip**"
      ],
      "metadata": {
        "id": "KBJvu8x_njrT"
      }
    },
    {
      "cell_type": "code",
      "source": [
        "local_zip = '/content/mammals-image-classification-dataset-45-animals.zip'\n",
        "zip_ref = zipfile.ZipFile(local_zip, 'r')\n",
        "zip_ref.extractall('/content/')\n",
        "zip_ref.close()"
      ],
      "metadata": {
        "id": "7FLMQl_UnkCr"
      },
      "execution_count": 8,
      "outputs": []
    },
    {
      "cell_type": "markdown",
      "source": [
        "**Data Directories**"
      ],
      "metadata": {
        "id": "uUfpPI_jvjS2"
      }
    },
    {
      "cell_type": "code",
      "source": [
        "img_dir = '/content/mammals'"
      ],
      "metadata": {
        "id": "EBGfUlCuvjrO"
      },
      "execution_count": 9,
      "outputs": []
    },
    {
      "cell_type": "markdown",
      "source": [
        "**image size and batch size**"
      ],
      "metadata": {
        "id": "to1Hb-JcvoQ3"
      }
    },
    {
      "cell_type": "code",
      "source": [
        "image_size = 256\n",
        "batch_size = 30"
      ],
      "metadata": {
        "id": "dHEyPpAbvndG"
      },
      "execution_count": 10,
      "outputs": []
    },
    {
      "cell_type": "markdown",
      "source": [
        "**Training data**"
      ],
      "metadata": {
        "id": "6OwASJvVvrR2"
      }
    },
    {
      "cell_type": "code",
      "source": [
        "train_ds = tf.keras.preprocessing.image_dataset_from_directory(\n",
        "    directory=img_dir,\n",
        "    validation_split=0.2,\n",
        "    subset=\"training\",\n",
        "    seed=1000,\n",
        "    image_size=(image_size,image_size),\n",
        "    batch_size=batch_size,\n",
        "    label_mode='categorical'\n",
        ")"
      ],
      "metadata": {
        "colab": {
          "base_uri": "https://localhost:8080/"
        },
        "id": "FRrzq8QHvpue",
        "outputId": "b0aad788-acbc-4ab3-a8f0-746f300d7020"
      },
      "execution_count": 11,
      "outputs": [
        {
          "output_type": "stream",
          "name": "stdout",
          "text": [
            "Found 13751 files belonging to 45 classes.\n",
            "Using 11001 files for training.\n"
          ]
        }
      ]
    },
    {
      "cell_type": "code",
      "source": [
        "class_names=train_ds.class_names\n",
        "class_names"
      ],
      "metadata": {
        "colab": {
          "base_uri": "https://localhost:8080/"
        },
        "id": "VdJoO_2yvuSH",
        "outputId": "a1d462ed-2ccd-47ea-e81b-753b7546488c"
      },
      "execution_count": 12,
      "outputs": [
        {
          "output_type": "execute_result",
          "data": {
            "text/plain": [
              "['african_elephant',\n",
              " 'alpaca',\n",
              " 'american_bison',\n",
              " 'anteater',\n",
              " 'arctic_fox',\n",
              " 'armadillo',\n",
              " 'baboon',\n",
              " 'badger',\n",
              " 'blue_whale',\n",
              " 'brown_bear',\n",
              " 'camel',\n",
              " 'dolphin',\n",
              " 'giraffe',\n",
              " 'groundhog',\n",
              " 'highland_cattle',\n",
              " 'horse',\n",
              " 'jackal',\n",
              " 'kangaroo',\n",
              " 'koala',\n",
              " 'manatee',\n",
              " 'mongoose',\n",
              " 'mountain_goat',\n",
              " 'opossum',\n",
              " 'orangutan',\n",
              " 'otter',\n",
              " 'polar_bear',\n",
              " 'porcupine',\n",
              " 'red_panda',\n",
              " 'rhinoceros',\n",
              " 'sea_lion',\n",
              " 'seal',\n",
              " 'snow_leopard',\n",
              " 'squirrel',\n",
              " 'sugar_glider',\n",
              " 'tapir',\n",
              " 'vampire_bat',\n",
              " 'vicuna',\n",
              " 'walrus',\n",
              " 'warthog',\n",
              " 'water_buffalo',\n",
              " 'weasel',\n",
              " 'wildebeest',\n",
              " 'wombat',\n",
              " 'yak',\n",
              " 'zebra']"
            ]
          },
          "metadata": {},
          "execution_count": 12
        }
      ]
    },
    {
      "cell_type": "markdown",
      "source": [
        "**Validation data**"
      ],
      "metadata": {
        "id": "HfQSdlU5vwNn"
      }
    },
    {
      "cell_type": "code",
      "source": [
        "val_ds = tf.keras.preprocessing.image_dataset_from_directory(\n",
        "    directory=img_dir,\n",
        "    validation_split=0.2,\n",
        "    subset=\"validation\",\n",
        "    seed=1000,\n",
        "    image_size=(image_size,image_size),\n",
        "    batch_size=batch_size,\n",
        "    label_mode='categorical'\n",
        ")"
      ],
      "metadata": {
        "colab": {
          "base_uri": "https://localhost:8080/"
        },
        "id": "zHpmasnWvwjH",
        "outputId": "c9edb9b8-0192-4e83-9613-3d5944d881a9"
      },
      "execution_count": 13,
      "outputs": [
        {
          "output_type": "stream",
          "name": "stdout",
          "text": [
            "Found 13751 files belonging to 45 classes.\n",
            "Using 2750 files for validation.\n"
          ]
        }
      ]
    },
    {
      "cell_type": "code",
      "source": [
        "base_model = DenseNet201(weights = 'imagenet',\n",
        "                        include_top = False,\n",
        "                        input_shape=(image_size,image_size,3))\n",
        "base_model.trainable = False"
      ],
      "metadata": {
        "colab": {
          "base_uri": "https://localhost:8080/"
        },
        "id": "PmEVif1Sv0hm",
        "outputId": "0ec7a5ad-add2-4638-e895-8b4e06532b29"
      },
      "execution_count": 14,
      "outputs": [
        {
          "output_type": "stream",
          "name": "stdout",
          "text": [
            "Downloading data from https://storage.googleapis.com/tensorflow/keras-applications/densenet/densenet201_weights_tf_dim_ordering_tf_kernels_notop.h5\n",
            "74836368/74836368 [==============================] - 0s 0us/step\n"
          ]
        }
      ]
    },
    {
      "cell_type": "code",
      "source": [
        "model = Sequential()\n",
        "model.add(Lambda(preprocess_input,input_shape = (image_size,image_size,3)))\n",
        "model.add(base_model)\n",
        "model.add(Conv2D(32, 3, padding='same', activation='relu'))\n",
        "model.add(MaxPooling2D())\n",
        "model.add(Conv2D(64, 3, padding='same', activation='relu'))\n",
        "model.add(MaxPooling2D())\n",
        "model.add(Flatten())\n",
        "model.add(Dense(64,activation = 'relu'))\n",
        "model.add(Dense(32,activation = 'relu'))\n",
        "model.add(Dense(45,activation = 'softmax'))"
      ],
      "metadata": {
        "id": "3UNjz-njv2Ju"
      },
      "execution_count": 15,
      "outputs": []
    },
    {
      "cell_type": "code",
      "source": [
        "model.compile(optimizer='adam',loss = 'CategoricalCrossentropy',metrics=['accuracy'])\n",
        "model.summary()"
      ],
      "metadata": {
        "colab": {
          "base_uri": "https://localhost:8080/"
        },
        "id": "CJLzq9kzv4K2",
        "outputId": "efdb5863-6c1b-4ec6-8a34-38ac67d6ac19"
      },
      "execution_count": 16,
      "outputs": [
        {
          "output_type": "stream",
          "name": "stdout",
          "text": [
            "Model: \"sequential\"\n",
            "_________________________________________________________________\n",
            " Layer (type)                Output Shape              Param #   \n",
            "=================================================================\n",
            " lambda (Lambda)             (None, 256, 256, 3)       0         \n",
            "                                                                 \n",
            " densenet201 (Functional)    (None, 8, 8, 1920)        18321984  \n",
            "                                                                 \n",
            " conv2d (Conv2D)             (None, 8, 8, 32)          552992    \n",
            "                                                                 \n",
            " max_pooling2d (MaxPooling2  (None, 4, 4, 32)          0         \n",
            " D)                                                              \n",
            "                                                                 \n",
            " conv2d_1 (Conv2D)           (None, 4, 4, 64)          18496     \n",
            "                                                                 \n",
            " max_pooling2d_1 (MaxPoolin  (None, 2, 2, 64)          0         \n",
            " g2D)                                                            \n",
            "                                                                 \n",
            " flatten (Flatten)           (None, 256)               0         \n",
            "                                                                 \n",
            " dense (Dense)               (None, 64)                16448     \n",
            "                                                                 \n",
            " dense_1 (Dense)             (None, 32)                2080      \n",
            "                                                                 \n",
            " dense_2 (Dense)             (None, 45)                1485      \n",
            "                                                                 \n",
            "=================================================================\n",
            "Total params: 18913485 (72.15 MB)\n",
            "Trainable params: 591501 (2.26 MB)\n",
            "Non-trainable params: 18321984 (69.89 MB)\n",
            "_________________________________________________________________\n"
          ]
        }
      ]
    },
    {
      "cell_type": "code",
      "source": [
        "class stop(tf.keras.callbacks.Callback):\n",
        "  def on_epoch_end(self, epoch, logs={}):\n",
        "    if(logs.get('accuracy')>0.98 and logs.get('val_accuracy')>0.88):\n",
        "      self.model.stop_training=True\n",
        "      print(\"\\n Akurasi telah mencapai > 98%!\")\n",
        "callbacks=stop()"
      ],
      "metadata": {
        "id": "ak5oR2Ubv669"
      },
      "execution_count": 17,
      "outputs": []
    },
    {
      "cell_type": "code",
      "source": [
        "epochs = 45\n",
        "history = model.fit(train_ds,validation_data=val_ds,epochs = epochs , batch_size=30,callbacks=[callbacks])"
      ],
      "metadata": {
        "colab": {
          "base_uri": "https://localhost:8080/"
        },
        "id": "PuWueIc1v8v2",
        "outputId": "58b7884a-3bef-4b84-eb2b-a12bd7064b5e"
      },
      "execution_count": 18,
      "outputs": [
        {
          "output_type": "stream",
          "name": "stdout",
          "text": [
            "Epoch 1/45\n"
          ]
        },
        {
          "output_type": "stream",
          "name": "stderr",
          "text": [
            "WARNING:tensorflow:AutoGraph could not transform <bound method _BaseOptimizer._update_step_xla of <tensorflow.python.eager.polymorphic_function.tf_method_target.TfMethodTarget object at 0x7dcbaaf345b0>> and will run it as-is.\n",
            "Cause: Unable to locate the source code of <bound method _BaseOptimizer._update_step_xla of <tensorflow.python.eager.polymorphic_function.tf_method_target.TfMethodTarget object at 0x7dcbaaf345b0>>. Note that functions defined in certain environments, like the interactive Python shell, do not expose their source code. If that is the case, you should define them in a .py source file. If you are certain the code is graph-compatible, wrap the call using @tf.autograph.experimental.do_not_convert. Original error: lineno is out of bounds\n",
            "To silence this warning, decorate the function with @tf.autograph.experimental.do_not_convert\n"
          ]
        },
        {
          "output_type": "stream",
          "name": "stdout",
          "text": [
            "WARNING: AutoGraph could not transform <bound method _BaseOptimizer._update_step_xla of <tensorflow.python.eager.polymorphic_function.tf_method_target.TfMethodTarget object at 0x7dcbaaf345b0>> and will run it as-is.\n",
            "Cause: Unable to locate the source code of <bound method _BaseOptimizer._update_step_xla of <tensorflow.python.eager.polymorphic_function.tf_method_target.TfMethodTarget object at 0x7dcbaaf345b0>>. Note that functions defined in certain environments, like the interactive Python shell, do not expose their source code. If that is the case, you should define them in a .py source file. If you are certain the code is graph-compatible, wrap the call using @tf.autograph.experimental.do_not_convert. Original error: lineno is out of bounds\n",
            "To silence this warning, decorate the function with @tf.autograph.experimental.do_not_convert\n",
            "367/367 [==============================] - 113s 253ms/step - loss: 1.4505 - accuracy: 0.5990 - val_loss: 0.6509 - val_accuracy: 0.8051\n",
            "Epoch 2/45\n",
            "367/367 [==============================] - 78s 212ms/step - loss: 0.4586 - accuracy: 0.8631 - val_loss: 0.5428 - val_accuracy: 0.8520\n",
            "Epoch 3/45\n",
            "367/367 [==============================] - 78s 212ms/step - loss: 0.2846 - accuracy: 0.9094 - val_loss: 0.5879 - val_accuracy: 0.8593\n",
            "Epoch 4/45\n",
            "367/367 [==============================] - 78s 212ms/step - loss: 0.2380 - accuracy: 0.9251 - val_loss: 0.5869 - val_accuracy: 0.8625\n",
            "Epoch 5/45\n",
            "367/367 [==============================] - 83s 226ms/step - loss: 0.1719 - accuracy: 0.9445 - val_loss: 0.6048 - val_accuracy: 0.8735\n",
            "Epoch 6/45\n",
            "367/367 [==============================] - 78s 213ms/step - loss: 0.1520 - accuracy: 0.9513 - val_loss: 0.6637 - val_accuracy: 0.8629\n",
            "Epoch 7/45\n",
            "367/367 [==============================] - 78s 213ms/step - loss: 0.1428 - accuracy: 0.9533 - val_loss: 0.6533 - val_accuracy: 0.8742\n",
            "Epoch 8/45\n",
            "367/367 [==============================] - 78s 213ms/step - loss: 0.1229 - accuracy: 0.9602 - val_loss: 0.6380 - val_accuracy: 0.8713\n",
            "Epoch 9/45\n",
            "367/367 [==============================] - 78s 213ms/step - loss: 0.1140 - accuracy: 0.9659 - val_loss: 0.6893 - val_accuracy: 0.8702\n",
            "Epoch 10/45\n",
            "367/367 [==============================] - 78s 213ms/step - loss: 0.1151 - accuracy: 0.9655 - val_loss: 0.7711 - val_accuracy: 0.8687\n",
            "Epoch 11/45\n",
            "367/367 [==============================] - 78s 213ms/step - loss: 0.1191 - accuracy: 0.9635 - val_loss: 0.8063 - val_accuracy: 0.8658\n",
            "Epoch 12/45\n",
            "367/367 [==============================] - 78s 213ms/step - loss: 0.0726 - accuracy: 0.9767 - val_loss: 0.7576 - val_accuracy: 0.8829\n",
            "Epoch 13/45\n",
            "367/367 [==============================] - 79s 213ms/step - loss: 0.0846 - accuracy: 0.9762 - val_loss: 0.8399 - val_accuracy: 0.8695\n",
            "Epoch 14/45\n",
            "367/367 [==============================] - 78s 213ms/step - loss: 0.0967 - accuracy: 0.9713 - val_loss: 0.6887 - val_accuracy: 0.8869\n",
            "Epoch 15/45\n",
            "367/367 [==============================] - 78s 213ms/step - loss: 0.0746 - accuracy: 0.9765 - val_loss: 0.7181 - val_accuracy: 0.8800\n",
            "Epoch 16/45\n",
            "367/367 [==============================] - 78s 213ms/step - loss: 0.0845 - accuracy: 0.9777 - val_loss: 0.7884 - val_accuracy: 0.8749\n",
            "Epoch 17/45\n",
            "367/367 [==============================] - 78s 213ms/step - loss: 0.0957 - accuracy: 0.9734 - val_loss: 0.7233 - val_accuracy: 0.8855\n",
            "Epoch 18/45\n",
            "367/367 [==============================] - 78s 213ms/step - loss: 0.0777 - accuracy: 0.9774 - val_loss: 0.7680 - val_accuracy: 0.8895\n",
            "Epoch 19/45\n",
            "367/367 [==============================] - 78s 212ms/step - loss: 0.0788 - accuracy: 0.9762 - val_loss: 0.9288 - val_accuracy: 0.8702\n",
            "Epoch 20/45\n",
            "367/367 [==============================] - ETA: 0s - loss: 0.0632 - accuracy: 0.9815\n",
            " Akurasi telah mencapai > 98%!\n",
            "367/367 [==============================] - 78s 212ms/step - loss: 0.0632 - accuracy: 0.9815 - val_loss: 0.8337 - val_accuracy: 0.8924\n"
          ]
        }
      ]
    },
    {
      "cell_type": "markdown",
      "source": [
        "**Plot accuracy dan error (train dan validation)**"
      ],
      "metadata": {
        "id": "A0x0yNrb2Tp1"
      }
    },
    {
      "cell_type": "code",
      "source": [
        "history = pd.DataFrame(model.history.history)\n",
        "history.plot()"
      ],
      "metadata": {
        "colab": {
          "base_uri": "https://localhost:8080/",
          "height": 447
        },
        "id": "CqTHej9n2VaN",
        "outputId": "e020c75f-2361-4234-fa40-981d52e354a2"
      },
      "execution_count": 19,
      "outputs": [
        {
          "output_type": "execute_result",
          "data": {
            "text/plain": [
              "<Axes: >"
            ]
          },
          "metadata": {},
          "execution_count": 19
        },
        {
          "output_type": "display_data",
          "data": {
            "text/plain": [
              "<Figure size 640x480 with 1 Axes>"
            ],
            "image/png": "[encoded data removed]"
          },
          "metadata": {}
        }
      ]
    },
    {
      "cell_type": "markdown",
      "source": [
        "**Deployment**"
      ],
      "metadata": {
        "id": "iirQwY6e2XtM"
      }
    },
    {
      "cell_type": "code",
      "source": [
        "# Menyimpan model dalam format SavedModel\n",
        "export_dir = '/gdrive/My Drive/KaggleNew/saved_model/'\n",
        "tf.saved_model.save(model, export_dir)\n",
        "\n",
        "# Convert SavedModel menjadi vegs.tflite\n",
        "converter = tf.lite.TFLiteConverter.from_saved_model(export_dir)\n",
        "tflite_model = converter.convert()\n",
        "\n",
        "tflite_model_file = pathlib.Path('vegs.tflite')\n",
        "tflite_model_file.write_bytes(tflite_model)"
      ],
      "metadata": {
        "colab": {
          "base_uri": "https://localhost:8080/"
        },
        "id": "j9RAIoCi2Xac",
        "outputId": "037f380c-ea51-41c3-b004-495a953b972a"
      },
      "execution_count": 20,
      "outputs": [
        {
          "output_type": "execute_result",
          "data": {
            "text/plain": [
              "74882212"
            ]
          },
          "metadata": {},
          "execution_count": 20
        }
      ]
    }
  ]
}